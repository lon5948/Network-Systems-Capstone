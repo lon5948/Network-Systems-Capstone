{
 "cells": [
  {
   "cell_type": "code",
   "execution_count": 38,
   "metadata": {},
   "outputs": [
    {
     "name": "stdout",
     "output_type": "stream",
     "text": [
      "The autoreload extension is already loaded. To reload it, use:\n",
      "  %reload_ext autoreload\n"
     ]
    }
   ],
   "source": [
    "%load_ext autoreload\n",
    "%autoreload 2"
   ]
  },
  {
   "cell_type": "code",
   "execution_count": 39,
   "metadata": {},
   "outputs": [],
   "source": [
    "from setting import Setting\n",
    "from protocols import aloha, slotted_aloha"
   ]
  },
  {
   "cell_type": "code",
   "execution_count": 40,
   "metadata": {},
   "outputs": [],
   "source": [
    "st = Setting(host_num=3, total_time=100, packet_num=4, max_colision_wait_time=20, p_resend=0.3, packet_size=3, link_delay=1, seed=4)"
   ]
  },
  {
   "cell_type": "code",
   "execution_count": 41,
   "metadata": {},
   "outputs": [
    {
     "name": "stdout",
     "output_type": "stream",
     "text": [
      "aloha\n",
      "                  V                V       V                                                     V      \n",
      "h0: ..............<---|....<---|................<---|.<---|..........<---|........<---><---><---|.......\n",
      "                V       V                              V          V                                     \n",
      "h1: ............<---|..........<---|.....<---|...<---|.............<---|..<---|.................<---|...\n",
      "       V     V                                          V                  V                            \n",
      "h2: ...<--->.<---|........<---|.............<---|...<---|..................<---|..................<---|.\n",
      "success_rate: 0.15\n",
      "idle_rate: 0.23\n",
      "collision_rate: 0.62\n"
     ]
    }
   ],
   "source": [
    "print('aloha')\n",
    "a_success, a_idle, a_collision = aloha(st, show_history=True)\n",
    "print('success_rate: ' + str(a_success))\n",
    "print('idle_rate: ' + str(a_idle))\n",
    "print('collision_rate: ' + str(a_collision))"
   ]
  },
  {
   "cell_type": "code",
   "execution_count": 42,
   "metadata": {},
   "outputs": [
    {
     "name": "stdout",
     "output_type": "stream",
     "text": [
      "slotted_aloha\n",
      "                  V                V       V                                                     V      \n",
      "h0: ...............<---|<--->..........<---|..<-|.......<-|<---|<---|.<--|.<--|..<-|..<-|..<-|.......<-|\n",
      "                V       V                              V          V                                     \n",
      "h1: ...............<---|............<-><---|.<--|.....<---|......<--|<---|......<--|.....<---|....|.<--|\n",
      "       V     V                                          V                  V                            \n",
      "h2: .....<---><--->........................................<---|....|..<-|<---|.<--|.<--|...<|...<|.<--|\n",
      "success_rate: 0.2\n",
      "idle_rate: 0.24\n",
      "collision_rate: 0.56\n"
     ]
    }
   ],
   "source": [
    "print('slotted_aloha')\n",
    "sa_success, sa_idle, sa_collision = slotted_aloha(st, show_history=True)\n",
    "print('success_rate: ' + str(sa_success))\n",
    "print('idle_rate: ' + str(sa_idle))\n",
    "print('collision_rate: ' + str(sa_collision))"
   ]
  }
 ],
 "metadata": {
  "kernelspec": {
   "display_name": "base",
   "language": "python",
   "name": "python3"
  },
  "language_info": {
   "codemirror_mode": {
    "name": "ipython",
    "version": 3
   },
   "file_extension": ".py",
   "mimetype": "text/x-python",
   "name": "python",
   "nbconvert_exporter": "python",
   "pygments_lexer": "ipython3",
   "version": "3.7.10"
  },
  "orig_nbformat": 4
 },
 "nbformat": 4,
 "nbformat_minor": 2
}
