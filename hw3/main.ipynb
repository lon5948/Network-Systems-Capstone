{
 "cells": [
  {
   "cell_type": "code",
   "execution_count": 261,
   "metadata": {},
   "outputs": [
    {
     "name": "stdout",
     "output_type": "stream",
     "text": [
      "The autoreload extension is already loaded. To reload it, use:\n",
      "  %reload_ext autoreload\n"
     ]
    }
   ],
   "source": [
    "%load_ext autoreload\n",
    "%autoreload 2"
   ]
  },
  {
   "cell_type": "code",
   "execution_count": 262,
   "metadata": {},
   "outputs": [],
   "source": [
    "from setting import Setting\n",
    "from protocols import aloha, slotted_aloha, csma, csma_cd"
   ]
  },
  {
   "cell_type": "code",
   "execution_count": 263,
   "metadata": {},
   "outputs": [],
   "source": [
    "st = Setting(host_num=3, total_time=100, packet_num=4, max_colision_wait_time=20, p_resend=0.3, packet_size=3, link_delay=1, seed=4)"
   ]
  },
  {
   "cell_type": "code",
   "execution_count": 264,
   "metadata": {},
   "outputs": [
    {
     "name": "stdout",
     "output_type": "stream",
     "text": [
      "aloha\n",
      "                  V                V       V                                                     V      \n",
      "h0: ..............<---|....<---|................<---|.<---|..........<---|........<---><---><---|.......\n",
      "                V       V                              V          V                                     \n",
      "h1: ............<---|..........<---|.....<---|...<---|.............<---|..<---|.................<---|...\n",
      "       V     V                                          V                  V                            \n",
      "h2: ...<--->.<---|........<---|.............<---|...<---|..................<---|..................<---|.\n",
      "success_rate: 0.15\n",
      "idle_rate: 0.23\n",
      "collision_rate: 0.62\n"
     ]
    }
   ],
   "source": [
    "print('aloha')\n",
    "a_success, a_idle, a_collision = aloha(st, show_history=True)\n",
    "print('success_rate: ' + str(a_success))\n",
    "print('idle_rate: ' + str(a_idle))\n",
    "print('collision_rate: ' + str(a_collision))"
   ]
  },
  {
   "cell_type": "code",
   "execution_count": 265,
   "metadata": {},
   "outputs": [
    {
     "name": "stdout",
     "output_type": "stream",
     "text": [
      "slotted_aloha\n",
      "                  V                V       V                                                     V      \n",
      "h0: ...............<---|..........<---|.....<---><---><--->........................................<--->\n",
      "                V       V                              V          V                                     \n",
      "h1: ...............<---|.....<---><---|....................<---|<---><---><--->.........................\n",
      "       V     V                                          V                  V                            \n",
      "h2: .....<---><--->........................................<---|........................................\n",
      "success_rate: 0.5\n",
      "idle_rate: 0.35\n",
      "collision_rate: 0.15\n"
     ]
    }
   ],
   "source": [
    "print('slotted_aloha')\n",
    "sa_success, sa_idle, sa_collision = slotted_aloha(st, show_history=True)\n",
    "print('success_rate: ' + str(sa_success))\n",
    "print('idle_rate: ' + str(sa_idle))\n",
    "print('collision_rate: ' + str(sa_collision))"
   ]
  },
  {
   "cell_type": "code",
   "execution_count": 266,
   "metadata": {},
   "outputs": [
    {
     "name": "stdout",
     "output_type": "stream",
     "text": [
      "csma\n",
      "                  V                V       V                                                     V      \n",
      "h0: ............................................<---><---><--->.........................................\n",
      "                V       V                              V          V                                     \n",
      "h1: .....................<---><--->.....................................<---><--->......................\n",
      "       V     V                                          V                  V                            \n",
      "h2: ...<--->.<--->................................................<--->........................<--->....\n",
      "success_rate: 0.55\n",
      "idle_rate: 0.45\n",
      "collision_rate: 0.0\n"
     ]
    }
   ],
   "source": [
    "print('csma')\n",
    "c_success, c_idle, c_collision = csma(st, show_history=True)\n",
    "print('success_rate: ' + str(c_success))\n",
    "print('idle_rate: ' + str(c_idle))\n",
    "print('collision_rate: ' + str(c_collision))"
   ]
  },
  {
   "cell_type": "code",
   "execution_count": 267,
   "metadata": {},
   "outputs": [
    {
     "name": "stdout",
     "output_type": "stream",
     "text": [
      "csma_cd\n",
      "                  V                V       V                                                     V      \n",
      "h0: ............................................<---><---><--->.........................................\n",
      "                V       V                              V          V                                     \n",
      "h1: .....................<---><--->.........................................<|.......................<--\n",
      "       V     V                                          V                  V                            \n",
      "h2: ...<--->.<--->................................................<--->....<--|.............<--->.......\n",
      "success_rate: 0.45\n",
      "idle_rate: 0.48\n",
      "collision_rate: 0.07\n"
     ]
    }
   ],
   "source": [
    "print('csma_cd')\n",
    "cd_success, cd_idle, cd_collision = csma_cd(st, show_history=True)\n",
    "print('success_rate: ' + str(cd_success))\n",
    "print('idle_rate: ' + str(cd_idle))\n",
    "print('collision_rate: ' + str(cd_collision))"
   ]
  },
  {
   "attachments": {},
   "cell_type": "markdown",
   "metadata": {},
   "source": [
    "#### Q1"
   ]
  }
 ],
 "metadata": {
  "kernelspec": {
   "display_name": "base",
   "language": "python",
   "name": "python3"
  },
  "language_info": {
   "codemirror_mode": {
    "name": "ipython",
    "version": 3
   },
   "file_extension": ".py",
   "mimetype": "text/x-python",
   "name": "python",
   "nbconvert_exporter": "python",
   "pygments_lexer": "ipython3",
   "version": "3.7.10"
  },
  "orig_nbformat": 4
 },
 "nbformat": 4,
 "nbformat_minor": 2
}
