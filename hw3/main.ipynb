{
 "cells": [
  {
   "cell_type": "code",
   "execution_count": 467,
   "metadata": {},
   "outputs": [
    {
     "name": "stdout",
     "output_type": "stream",
     "text": [
      "The autoreload extension is already loaded. To reload it, use:\n",
      "  %reload_ext autoreload\n"
     ]
    }
   ],
   "source": [
    "%load_ext autoreload\n",
    "%autoreload 2"
   ]
  },
  {
   "cell_type": "code",
   "execution_count": 468,
   "metadata": {},
   "outputs": [],
   "source": [
    "from setting import Setting\n",
    "from protocols import aloha, slotted_aloha, csma, csma_cd\n",
    "\n",
    "import matplotlib.pyplot as plt"
   ]
  },
  {
   "cell_type": "code",
   "execution_count": 469,
   "metadata": {},
   "outputs": [],
   "source": [
    "st = Setting(host_num=3, total_time=100, packet_num=4, max_colision_wait_time=20, p_resend=0.3, packet_size=3, link_delay=1, seed=4)"
   ]
  },
  {
   "cell_type": "code",
   "execution_count": 470,
   "metadata": {},
   "outputs": [
    {
     "name": "stdout",
     "output_type": "stream",
     "text": [
      "aloha\n",
      "       V     V  V V     V          V       V           V          V                              V      \n",
      "h0: ...<---|.......<---|............<---|..<---|............<---|.......<---><---><---|...........<---|.\n",
      "            V              V     V      V V        V    V              V V V                            \n",
      "h1: ........<---|...<---|...............<---|<---|.........<---|.<---|................<---|........<---|\n",
      "        V         V       V  V  V     VV  V V                                          V                \n",
      "h2: ....<---|.........<---|....<---><---|..<---|.................<---|.................<---|.....<---|..\n",
      "success_rate: 0.15\n",
      "idle_rate: 0.25\n",
      "collision_rate: 0.6\n"
     ]
    }
   ],
   "source": [
    "print('aloha')\n",
    "a_success, a_idle, a_collision = aloha(st, show_history=True)\n",
    "print('success_rate: ' + str(a_success))\n",
    "print('idle_rate: ' + str(a_idle))\n",
    "print('collision_rate: ' + str(a_collision))"
   ]
  },
  {
   "cell_type": "code",
   "execution_count": 471,
   "metadata": {},
   "outputs": [
    {
     "name": "stdout",
     "output_type": "stream",
     "text": [
      "slotted_aloha\n",
      "       V     V  V V     V          V       V           V          V                              V      \n",
      "h0: .....<---|.........................<---|..............................<---|<---|....................\n",
      "            V              V     V      V V        V    V              V V V                            \n",
      "h1: ..........<---|.....<---|.....<---><---|.....<---|...............<---><---|<---|<---><---><---><--->\n",
      "        V         V       V  V  V     VV  V V                                          V                \n",
      "h2: .....<---|<---|.....<---|....................<---|.........................<---|....................\n",
      "success_rate: 0.3\n",
      "idle_rate: 0.35\n",
      "collision_rate: 0.35\n"
     ]
    }
   ],
   "source": [
    "print('slotted_aloha')\n",
    "sa_success, sa_idle, sa_collision = slotted_aloha(st, show_history=True)\n",
    "print('success_rate: ' + str(sa_success))\n",
    "print('idle_rate: ' + str(sa_idle))\n",
    "print('collision_rate: ' + str(sa_collision))"
   ]
  },
  {
   "cell_type": "code",
   "execution_count": 472,
   "metadata": {},
   "outputs": [
    {
     "name": "stdout",
     "output_type": "stream",
     "text": [
      "csma\n",
      "       V     V  V V     V          V       V           V          V                              V      \n",
      "h0: ...<---|....................................................<---|................<---><---><---><---\n",
      "            V              V     V      V V        V    V              V V V                            \n",
      "h1: ....................................................................................................\n",
      "        V         V       V  V  V     VV  V V                                          V                \n",
      "h2: ....<---|...<---><---><---><---><---><---><---><---><--->...........................................\n",
      "success_rate: 0.6\n",
      "idle_rate: 0.25\n",
      "collision_rate: 0.15\n"
     ]
    }
   ],
   "source": [
    "print('csma')\n",
    "c_success, c_idle, c_collision = csma(st, show_history=True)\n",
    "print('success_rate: ' + str(c_success))\n",
    "print('idle_rate: ' + str(c_idle))\n",
    "print('collision_rate: ' + str(c_collision))"
   ]
  },
  {
   "cell_type": "code",
   "execution_count": 473,
   "metadata": {},
   "outputs": [
    {
     "name": "stdout",
     "output_type": "stream",
     "text": [
      "csma_cd\n",
      "       V     V  V V     V          V       V           V          V                              V      \n",
      "h0: ...<--|..............<---><---><---><---><---><---><---><--->.<--->.................................\n",
      "            V              V     V      V V        V    V              V V V                            \n",
      "h1: ............<--|........................................................<---><---><---><---><---><--\n",
      "        V         V       V  V  V     VV  V V                                          V                \n",
      "h2: ....<|.......<|.....................................................................................\n",
      "success_rate: 0.7\n",
      "idle_rate: 0.19\n",
      "collision_rate: 0.11\n"
     ]
    }
   ],
   "source": [
    "print('csma_cd')\n",
    "cd_success, cd_idle, cd_collision = csma_cd(st, show_history=True)\n",
    "print('success_rate: ' + str(cd_success))\n",
    "print('idle_rate: ' + str(cd_idle))\n",
    "print('collision_rate: ' + str(cd_collision))"
   ]
  },
  {
   "attachments": {},
   "cell_type": "markdown",
   "metadata": {},
   "source": [
    "#### Q1"
   ]
  },
  {
   "cell_type": "code",
   "execution_count": 474,
   "metadata": {},
   "outputs": [],
   "source": [
    "host_num_list = [2,3,4,6]\n",
    "packet_num_list = [1200,800,600,400]\n",
    "\n",
    "aloha_success = []\n",
    "slotted_success = []\n",
    "csma_success = []\n",
    "csmacd_success = []\n",
    "\n",
    "for h, p in zip(host_num_list, packet_num_list):\n",
    "    st = Setting(host_num=h, total_time=12000, packet_num=p, max_colision_wait_time=20, p_resend=0.3, packet_size=3, link_delay=1, seed=4)\n",
    "    s, i, c = aloha(st, show_history=False)\n",
    "    aloha_success.append(s)\n",
    "    s, i, c = slotted_aloha(st, show_history=False)\n",
    "    slotted_success.append(s)\n",
    "    s, i, c = csma(st, show_history=False)\n",
    "    csma_success.append(s)\n",
    "    s, i, c = csma_cd(st, show_history=False)\n",
    "    csmacd_success.append(s)"
   ]
  },
  {
   "cell_type": "code",
   "execution_count": 475,
   "metadata": {},
   "outputs": [
    {
     "name": "stdout",
     "output_type": "stream",
     "text": [
      "[0.26708333333333334, 0.18666666666666668, 0.09375, 0.030833333333333334]\n",
      "[0.5995833333333334, 0.46125, 0.36666666666666664, 0.2725]\n",
      "[0.9645833333333333, 0.95, 0.9308333333333333, 0.9275]\n",
      "[0.9654166666666667, 0.9591666666666666, 0.9433333333333334, 0.9145833333333333]\n"
     ]
    }
   ],
   "source": [
    "print(aloha_success)\n",
    "print(slotted_success)\n",
    "print(csma_success)\n",
    "print(csmacd_success)"
   ]
  },
  {
   "cell_type": "code",
   "execution_count": 476,
   "metadata": {},
   "outputs": [
    {
     "data": {
      "image/png": "[encoded data removed]",
      "text/plain": [
       "<Figure size 640x480 with 1 Axes>"
      ]
     },
     "metadata": {},
     "output_type": "display_data"
    }
   ],
   "source": [
    "plt.plot(host_num_list, aloha_success, marker = '.', label='aloha')\n",
    "plt.plot(host_num_list, slotted_success, marker = '*', label='slotted aloha')\n",
    "plt.plot(host_num_list, csma_success, marker = 's', label='csma')\n",
    "plt.plot(host_num_list, csmacd_success, marker = 'x', label='csma/cd')\n",
    "plt.title(\"Influence of Host Num\")\n",
    "plt.xlabel(\"Host Num\")\n",
    "plt.ylabel(\"Success Rate\")\n",
    "plt.legend()\n",
    "plt.show()"
   ]
  }
 ],
 "metadata": {
  "kernelspec": {
   "display_name": "base",
   "language": "python",
   "name": "python3"
  },
  "language_info": {
   "codemirror_mode": {
    "name": "ipython",
    "version": 3
   },
   "file_extension": ".py",
   "mimetype": "text/x-python",
   "name": "python",
   "nbconvert_exporter": "python",
   "pygments_lexer": "ipython3",
   "version": "3.7.10"
  },
  "orig_nbformat": 4
 },
 "nbformat": 4,
 "nbformat_minor": 2
}
